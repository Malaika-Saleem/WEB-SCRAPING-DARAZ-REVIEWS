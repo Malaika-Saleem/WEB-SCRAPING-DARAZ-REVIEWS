{
 "cells": [
  {
   "cell_type": "code",
   "execution_count": null,
   "id": "2d95bb20",
   "metadata": {},
   "outputs": [],
   "source": [
    "driver = webdriver.Chrome(service=ChromeService(ChromeDriverManager().install()))\n",
    "url='https://www.daraz.pk/products/12-8gb-128gb-5000mah-33-i421379488-s1989920618.html?spm=a2a0e.searchlist.sku.1.29313de2gohjjQ&search=1'"
   ]
  },
  {
   "cell_type": "code",
   "execution_count": null,
   "id": "f8bb8e8a",
   "metadata": {},
   "outputs": [],
   "source": [
    "import time\n",
    "import pandas as pd\n",
    "\n",
    "driver.get(url)\n",
    "\n",
    "temp = dict()\n",
    "temp['Name'] = []\n",
    "temp['Review text'] = []\n",
    "temp['sentiment']=[]\n",
    "\n",
    "#scrolling down the page to load reviews\n",
    "driver.execute_script(\"window.scrollTo(0, 500);\")\n",
    "time.sleep(1)\n",
    "driver.execute_script(\"window.scrollTo(500, 800);\")\n",
    "time.sleep(1)\n",
    "driver.execute_script(\"window.scrollTo(800, 1000);\")\n",
    "time.sleep(2)\n",
    "driver.execute_script(\"window.scrollTo(1000, 1300);\")\n",
    "time.sleep(2)\n",
    "driver.execute_script(\"window.scrollTo(1300, 1600);\")\n",
    "time.sleep(1)\n",
    "\n",
    "#looping through review pages\n",
    "for page in range(0,3):\n",
    "    try:\n",
    "        # Finding the container for reviews\n",
    "        reviews_container = driver.find_element(By.XPATH, '//*[@id=\"module_product_review\"]/div/div/div[3]/div[1]')\n",
    "    except NoSuchElementException:\n",
    "        print('No Reviews')\n",
    "        break\n",
    "        #finding all individual reviews on the current page\n",
    "    reviews = reviews_container.find_elements(By.CLASS_NAME,'item')\n",
    "\n",
    "    #looping through each review on the current page\n",
    "    for i in range(len(reviews)):\n",
    "        #checking if the review text is not empty\n",
    "        if reviews[i].find_element(By.CSS_SELECTOR, f\"#module_product_review > div > div > div:nth-child(3) > div.mod-reviews > div:nth-child({i+1}) > div.item-content > div.content\").text != '':\n",
    "            #extracting and appending reviewer name and review text\n",
    "            temp['Name'].append(reviews[i].find_element(By.CLASS_NAME,'middle').find_element(By.TAG_NAME,'span').text[3:])\n",
    "            temp['Review text'].append(reviews[i].find_element(By.CSS_SELECTOR, f\"#module_product_review > div > div > div:nth-child(3) > div.mod-reviews > div:nth-child({i+1}) > div.item-content > div.content\").text)\n",
    "            temp['sentiment'].append('x')\n",
    "    try:\n",
    "        #clicking the next button if it exists and not on the third page\n",
    "        if(page != 2):\n",
    "            nxt_button = driver.find_element(By.XPATH, '//*[@id=\"module_product_review\"]/div/div/div[3]/div[2]/div/button[2]')\n",
    "            driver.execute_script(\"arguments[0].click();\", nxt_button)\n",
    "            time.sleep(5)\n",
    "    except NoSuchElementException:\n",
    "        print('No More Pages')\n",
    "        break\n",
    "#converting to dataframe\n",
    "reviews = pd.DataFrame(temp)\n",
    "reviews.to_csv('Q4_data.csv')\n",
    "reviews"
   ]
  },
  {
   "cell_type": "code",
   "execution_count": null,
   "id": "1ba37d13",
   "metadata": {},
   "outputs": [],
   "source": [
    "import pandas as pd\n",
    "import nltk\n",
    "from nltk.sentiment import SentimentIntensityAnalyzer\n",
    "\n",
    "df=pd.read_csv('Q4.csv')\n",
    "#initialize sentiment analyzer\n",
    "sia = SentimentIntensityAnalyzer()\n",
    "\n",
    "#loop through each row and update sentiments column with actual sentiment scores\n",
    "for index, row in df.iterrows():\n",
    "    sentiment_score = sia.polarity_scores(row['reviews'])['compound']\n",
    "    df.at[index, 'sentiments'] = sentiment_score\n",
    "\n",
    "df"
   ]
  },
  {
   "cell_type": "code",
   "execution_count": null,
   "id": "02cd1dce",
   "metadata": {},
   "outputs": [],
   "source": []
  },
  {
   "cell_type": "code",
   "execution_count": null,
   "id": "f61e4043",
   "metadata": {},
   "outputs": [],
   "source": []
  },
  {
   "cell_type": "code",
   "execution_count": null,
   "id": "21dc521a",
   "metadata": {},
   "outputs": [],
   "source": []
  },
  {
   "cell_type": "code",
   "execution_count": null,
   "id": "c1208f56",
   "metadata": {},
   "outputs": [],
   "source": []
  },
  {
   "cell_type": "code",
   "execution_count": null,
   "id": "5b4945eb",
   "metadata": {},
   "outputs": [],
   "source": []
  },
  {
   "cell_type": "code",
   "execution_count": null,
   "id": "c1fbe3b6",
   "metadata": {},
   "outputs": [],
   "source": []
  },
  {
   "cell_type": "code",
   "execution_count": null,
   "id": "928a31c3",
   "metadata": {},
   "outputs": [],
   "source": []
  }
 ],
 "metadata": {
  "kernelspec": {
   "display_name": "Python 3 (ipykernel)",
   "language": "python",
   "name": "python3"
  },
  "language_info": {
   "codemirror_mode": {
    "name": "ipython",
    "version": 3
   },
   "file_extension": ".py",
   "mimetype": "text/x-python",
   "name": "python",
   "nbconvert_exporter": "python",
   "pygments_lexer": "ipython3",
   "version": "3.11.4"
  }
 },
 "nbformat": 4,
 "nbformat_minor": 5
}
